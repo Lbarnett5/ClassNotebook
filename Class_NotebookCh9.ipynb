{
 "cells": [
  {
   "cell_type": "markdown",
   "metadata": {},
   "source": [
    "# Ch9 Classes"
   ]
  },
  {
   "cell_type": "markdown",
   "metadata": {},
   "source": [
    "### Python is an object oriented programming language.\n",
    "- Almost everything in Python is an object, with its properties and methods (Functions).\n",
    "- A Class is like an object constructor, or a \"blueprint\" for creating objects."
   ]
  },
  {
   "cell_type": "code",
   "execution_count": 1,
   "metadata": {},
   "outputs": [
    {
     "name": "stdout",
     "output_type": "stream",
     "text": [
      "Angel\n",
      "Hill\n",
      "Employee full name: Angel Hill\n",
      "Employee full name: Peter White\n"
     ]
    }
   ],
   "source": [
    "class Employee():\n",
    "    ## innit is the constructor of the class\n",
    "        # self is used to represent the instance of a class\n",
    "    def __init__(self, first, last, age, dept):\n",
    "        self.first=first.title()\n",
    "        self.last=last.title()\n",
    "        self.age=age\n",
    "        self.dept=dept.title()\n",
    "        \n",
    "    def fullname(self):\n",
    "        return f\"Employee full name: {self.first} {self.last}\"\n",
    "        \n",
    "emp_1=Employee(\"angel\",\"hill\",21,\"accounting\")\n",
    "emp_2=Employee(\"peter\",\"white\",35,\"finance\")\n",
    "print(emp_1.first)\n",
    "print(emp_1.last)\n",
    "print(emp_1.fullname())\n",
    "print(emp_2.fullname())"
   ]
  },
  {
   "cell_type": "code",
   "execution_count": null,
   "metadata": {},
   "outputs": [],
   "source": []
  },
  {
   "cell_type": "markdown",
   "metadata": {},
   "source": [
    "### Creating the Dog Class\n",
    "Each instance created from the Dog class will store a name and an age, and we’ll give each dog the ability to sit() and roll_over():"
   ]
  },
  {
   "cell_type": "code",
   "execution_count": 2,
   "metadata": {},
   "outputs": [
    {
     "name": "stdout",
     "output_type": "stream",
     "text": [
      "Happy\n",
      "10\n",
      "Leo\n",
      "7\n",
      "Happy is now sitting\n",
      "Happy rolled over\n",
      "Leo is now sitting\n",
      "Leo rolled over\n"
     ]
    }
   ],
   "source": [
    "class Dog():\n",
    "    def __init__(self, name, age):\n",
    "        self.name=name.title()\n",
    "        self.age=age\n",
    "        \n",
    "    def sit(self):\n",
    "        return f\"{self.name} is now sitting\"\n",
    "    \n",
    "    def roll_over(self):\n",
    "        return f\"{self.name} rolled over\"\n",
    "    \n",
    "dog1=Dog(\"Happy\", 10)\n",
    "dog2=Dog(\"Leo\", 7)\n",
    "print(dog1.name)\n",
    "print(dog1.age)\n",
    "print(dog2.name)\n",
    "print(dog2.age)\n",
    "print(dog1.sit())\n",
    "print(dog1.roll_over())\n",
    "print(dog2.sit())\n",
    "print(dog2.roll_over())"
   ]
  },
  {
   "cell_type": "code",
   "execution_count": null,
   "metadata": {},
   "outputs": [],
   "source": []
  },
  {
   "cell_type": "markdown",
   "metadata": {},
   "source": [
    "#### Note:\n",
    "- By convention, capitalized names refer to classes in Python. \n",
    "- The parentheses in the class definition are empty because we’re creating this class from scratch.\n",
    "- All classes have a function called __init__(), which is always executed when the class is being initiated.\n",
    "- Use the __init__() function to assign values to object properties, or other operations that are necessary to do when the object is being created\n",
    "- Any variable prefixed with `self` is available to every method in the class, and we’ll also be able to access these variables through any instance created from the class.\n",
    "- The Dog class has two other methods defined: sit() and roll_over().Because these methods don’t need additional information like a name or age, we just define them to have one parameter, self."
   ]
  },
  {
   "cell_type": "markdown",
   "metadata": {},
   "source": [
    "### Restaurant: Make a class called Restaurant. The __init__() method for Restaurant should store two attributes: a restaurant_name and a cuisine_type.\n",
    "- Make a method called `describe_restaurant()` that prints name of teh restrurent and the cuisine type\n",
    "- and a method called open_restaurant() that prints a message indicating that the restaurant is open.\n",
    "- Make an instance called restaurant from your class. Print the two attributes individually, and then call both methods.\n"
   ]
  },
  {
   "cell_type": "code",
   "execution_count": 3,
   "metadata": {},
   "outputs": [
    {
     "name": "stdout",
     "output_type": "stream",
     "text": [
      "Magiano's\n",
      "Italian\n",
      "Magiano's is a restaurant that serves Italian.\n",
      "Magiano's is now open!\n"
     ]
    }
   ],
   "source": [
    "class Restaurant():\n",
    "    def __init__(self, restaurant_name, cuisine_type):\n",
    "        self.restaurant_name=restaurant_name\n",
    "        self.cuisine_type=cuisine_type\n",
    "    \n",
    "    def describe_restaurant(self):\n",
    "        return f\"{self.restaurant_name} is a restaurant that serves {self.cuisine_type}.\"\n",
    "    \n",
    "    def open_restaurant(self):\n",
    "        return f\"{self.restaurant_name} is now open!\"\n",
    "    \n",
    "restaurant=Restaurant(\"Magiano's\", \"Italian\")\n",
    "print(restaurant.restaurant_name)\n",
    "print(restaurant.cuisine_type)\n",
    "print(restaurant.describe_restaurant())\n",
    "print(restaurant.open_restaurant())"
   ]
  },
  {
   "cell_type": "code",
   "execution_count": null,
   "metadata": {},
   "outputs": [],
   "source": []
  },
  {
   "cell_type": "markdown",
   "metadata": {},
   "source": [
    "### - Create three different instances from the class, and call describe_restaurant() for each instance."
   ]
  },
  {
   "cell_type": "code",
   "execution_count": 4,
   "metadata": {},
   "outputs": [
    {
     "name": "stdout",
     "output_type": "stream",
     "text": [
      "Magiano's is a restaurant that serves Italian.\n",
      "IHOP is a restaurant that serves breakfast food.\n",
      "Shahar Cafe is a restaurant that serves burgers.\n"
     ]
    }
   ],
   "source": [
    "restaurant1=Restaurant(\"Magiano's\", \"Italian\")\n",
    "restaurant2=Restaurant(\"IHOP\", \"breakfast food\")\n",
    "restaurant3=Restaurant(\"Shahar Cafe\", \"burgers\")\n",
    "print(restaurant1.describe_restaurant())\n",
    "print(restaurant2.describe_restaurant())\n",
    "print(restaurant3.describe_restaurant())"
   ]
  },
  {
   "cell_type": "code",
   "execution_count": null,
   "metadata": {},
   "outputs": [],
   "source": []
  },
  {
   "cell_type": "code",
   "execution_count": null,
   "metadata": {},
   "outputs": [],
   "source": []
  },
  {
   "cell_type": "markdown",
   "metadata": {},
   "source": [
    "### Users: Make a class called User. Create attributes called first_name and last_name, username, location \n",
    "- Make a method called describe_user() that prints a summary of the user’s information. \n",
    "- Make another method called greet_user() that prints a personalized greeting to the user.\n",
    "- Create several instances representing different users, and call both methods for each user."
   ]
  },
  {
   "cell_type": "code",
   "execution_count": 5,
   "metadata": {},
   "outputs": [
    {
     "name": "stdout",
     "output_type": "stream",
     "text": [
      "Anna Hertzog is from California. Their username is AnnaHertz1.\n",
      "Welcome AnnaHertz1!\n",
      "Luci Barnett is from Tennessee. Their username is Lbarnett.\n",
      "Welcome Lbarnett!\n",
      "Martin Blackwood is from England. Their username is LonelySpider.\n",
      "Welcome LonelySpider!\n"
     ]
    }
   ],
   "source": [
    "class User():\n",
    "    def __init__(self, first_name, last_name, username, location):\n",
    "        self.first_name=first_name.title()\n",
    "        self.last_name=last_name.title()\n",
    "        self.username=username\n",
    "        self.location=location\n",
    "        \n",
    "    def describe_user(self):\n",
    "        return f\"{self.first_name} {self.last_name} is from {self.location}. Their username is {self.username}.\"\n",
    "        \n",
    "    def greet_user(self):\n",
    "        return f\"Welcome {self.username}!\"\n",
    "    \n",
    "user1= User(\"Anna\", \"Hertzog\", \"AnnaHertz1\", \"California\")\n",
    "user2= User(\"Luci\", \"Barnett\", \"Lbarnett\", \"Tennessee\")\n",
    "user3= User(\"Martin\", \"Blackwood\", \"LonelySpider\", \"England\")\n",
    "print(user1.describe_user())\n",
    "print(user1.greet_user())\n",
    "print(user2.describe_user())\n",
    "print(user2.greet_user())\n",
    "print(user3.describe_user())\n",
    "print(user3.greet_user())"
   ]
  },
  {
   "cell_type": "code",
   "execution_count": null,
   "metadata": {},
   "outputs": [],
   "source": []
  },
  {
   "cell_type": "markdown",
   "metadata": {},
   "source": [
    "## Setting a Default Value for an Attribute"
   ]
  },
  {
   "cell_type": "code",
   "execution_count": 6,
   "metadata": {},
   "outputs": [],
   "source": [
    "class car():\n",
    "    def __init__(self, make, model, year):\n",
    "        self.make=make\n",
    "        self.model=model\n",
    "        self.year=year\n",
    "        self.odometer_reading=0\n",
    "    \n",
    "    def get_desc_name(self):\n",
    "        long_name= str(self.year)+\" \"+ self.make + \" \"+ self.model\n",
    "        return long_name.title()\n",
    "    \n",
    "    def update_odometer(self, milage):\n",
    "        self.odometer_reading+=milage\n",
    "        \n",
    "    def read_odometer(self):\n",
    "        return f\"This car has {self.odometer_reading} miles on it\""
   ]
  },
  {
   "cell_type": "code",
   "execution_count": 7,
   "metadata": {},
   "outputs": [
    {
     "name": "stdout",
     "output_type": "stream",
     "text": [
      "2016 Nissan Versa\n",
      "This car has 20 miles on it\n"
     ]
    }
   ],
   "source": [
    "my_car=car(\"Nissan\", \"Versa\", 2016)\n",
    "print(my_car.get_desc_name())\n",
    "my_car.update_odometer(20)\n",
    "print(my_car.read_odometer())"
   ]
  },
  {
   "cell_type": "code",
   "execution_count": null,
   "metadata": {},
   "outputs": [],
   "source": []
  },
  {
   "cell_type": "markdown",
   "metadata": {},
   "source": [
    "#### Modifying an Attribute’s Value Directly"
   ]
  },
  {
   "cell_type": "code",
   "execution_count": null,
   "metadata": {},
   "outputs": [],
   "source": []
  },
  {
   "cell_type": "code",
   "execution_count": null,
   "metadata": {},
   "outputs": [],
   "source": []
  },
  {
   "cell_type": "markdown",
   "metadata": {},
   "source": [
    "### Modifying an Attribute’s Value Through a Method"
   ]
  },
  {
   "cell_type": "code",
   "execution_count": null,
   "metadata": {},
   "outputs": [],
   "source": []
  },
  {
   "cell_type": "code",
   "execution_count": null,
   "metadata": {},
   "outputs": [],
   "source": []
  },
  {
   "cell_type": "markdown",
   "metadata": {},
   "source": [
    "### Incrementing an Attribute’s Value Through a Method"
   ]
  },
  {
   "cell_type": "code",
   "execution_count": null,
   "metadata": {},
   "outputs": [],
   "source": []
  },
  {
   "cell_type": "code",
   "execution_count": null,
   "metadata": {},
   "outputs": [],
   "source": []
  },
  {
   "cell_type": "markdown",
   "metadata": {},
   "source": [
    "# Inheritance\n",
    "- You don’t always have to start from scratch when writing a class. If the class you’re writing is a specialized version of another class you wrote, you can use inheritance. \n",
    "- When one class inherits from another, it automatically takes on all the attributes and methods of the first class. The original class is called the `parent class`, and the new class is the `child class`. \n",
    "- The child class inherits every attribute and method from its parent class but is also free to define new attributes and methods of its own."
   ]
  },
  {
   "cell_type": "code",
   "execution_count": null,
   "metadata": {},
   "outputs": [],
   "source": []
  },
  {
   "cell_type": "code",
   "execution_count": null,
   "metadata": {},
   "outputs": [],
   "source": []
  },
  {
   "cell_type": "code",
   "execution_count": null,
   "metadata": {},
   "outputs": [],
   "source": []
  },
  {
   "cell_type": "markdown",
   "metadata": {},
   "source": [
    "### Practice: Create a class named Person, with firstname and lastname properties, and a printname method:"
   ]
  },
  {
   "cell_type": "code",
   "execution_count": null,
   "metadata": {},
   "outputs": [],
   "source": []
  },
  {
   "cell_type": "code",
   "execution_count": null,
   "metadata": {},
   "outputs": [],
   "source": []
  },
  {
   "cell_type": "code",
   "execution_count": null,
   "metadata": {},
   "outputs": [],
   "source": []
  },
  {
   "cell_type": "markdown",
   "metadata": {},
   "source": [
    "### Create child classes called Student using Inheritance contains the first and last name and the graduation year \n",
    "- Add a method called `welcome` that prints the student graduation year\n",
    "- Test the student method for two students"
   ]
  },
  {
   "cell_type": "code",
   "execution_count": null,
   "metadata": {},
   "outputs": [],
   "source": []
  },
  {
   "cell_type": "code",
   "execution_count": null,
   "metadata": {},
   "outputs": [],
   "source": []
  },
  {
   "cell_type": "markdown",
   "metadata": {},
   "source": [
    "## Create a simple calculator using classes"
   ]
  },
  {
   "cell_type": "code",
   "execution_count": 8,
   "metadata": {},
   "outputs": [
    {
     "name": "stdout",
     "output_type": "stream",
     "text": [
      "\n",
      "Choose from the following menu:\n",
      "1. Addition\n",
      "2. Subtraction\n",
      "3. Multiplication\n",
      "4. Division\n",
      "5. Exit\n",
      "Enter your choice (1-5): 1\n",
      "Enter the first number: 20\n",
      "Enter the second number: 50\n",
      "addition= 70\n",
      "\n",
      "Choose from the following menu:\n",
      "1. Addition\n",
      "2. Subtraction\n",
      "3. Multiplication\n",
      "4. Division\n",
      "5. Exit\n",
      "Enter your choice (1-5): 2\n",
      "Enter the first number: 24\n",
      "Enter the second number: 5\n",
      "subtraction= 19\n",
      "\n",
      "Choose from the following menu:\n",
      "1. Addition\n",
      "2. Subtraction\n",
      "3. Multiplication\n",
      "4. Division\n",
      "5. Exit\n",
      "Enter your choice (1-5): 3\n",
      "Enter the first number: 12\n",
      "Enter the second number: 36\n",
      "multiplication= 432\n",
      "\n",
      "Choose from the following menu:\n",
      "1. Addition\n",
      "2. Subtraction\n",
      "3. Multiplication\n",
      "4. Division\n",
      "5. Exit\n",
      "Enter your choice (1-5): 4\n",
      "Enter the first number: 25\n",
      "Enter the second number: 5\n",
      "division= 5.0\n",
      "\n",
      "Choose from the following menu:\n",
      "1. Addition\n",
      "2. Subtraction\n",
      "3. Multiplication\n",
      "4. Division\n",
      "5. Exit\n",
      "Enter your choice (1-5): 5\n"
     ]
    }
   ],
   "source": [
    "class calc():\n",
    "    def __init__(self, input1, input2):\n",
    "        self.input1=input1\n",
    "        self.input2=input2\n",
    "    \n",
    "    def add(num1, num2):\n",
    "        return f\"addition= {num1+num2}\"\n",
    "    \n",
    "    def subt(num1, num2):\n",
    "        return f\"subtraction= {num1-num2}\"\n",
    "    \n",
    "    def mult(num1, num2):\n",
    "        return f\"multiplication= {num1*num2}\"\n",
    "    \n",
    "    def div(num1, num2):\n",
    "        return f\"division= {num1/num2}\"\n",
    "    \n",
    "while True:\n",
    "    print(\"\\nChoose from the following menu:\")\n",
    "    print(\"1. Addition\")\n",
    "    print(\"2. Subtraction\")\n",
    "    print(\"3. Multiplication\")\n",
    "    print(\"4. Division\")\n",
    "    print(\"5. Exit\")\n",
    "    \n",
    "    choice = int(input(\"Enter your choice (1-5): \"))\n",
    "    \n",
    "    if choice==1:\n",
    "        num1 = int(input(\"Enter the first number: \"))\n",
    "        num2 = int(input(\"Enter the second number: \"))\n",
    "        print(calc.add(num1, num2))\n",
    "    elif choice==2:\n",
    "        num1 = int(input(\"Enter the first number: \"))\n",
    "        num2 = int(input(\"Enter the second number: \"))\n",
    "        print(calc.subt(num1, num2))\n",
    "    elif choice==3:\n",
    "        num1 = int(input(\"Enter the first number: \"))\n",
    "        num2 = int(input(\"Enter the second number: \"))\n",
    "        print(calc.mult(num1, num2))\n",
    "    elif choice==4:\n",
    "        num1 = int(input(\"Enter the first number: \"))\n",
    "        num2 = int(input(\"Enter the second number: \"))\n",
    "        if num2==0:\n",
    "            print(\"Infinity\")\n",
    "        else:\n",
    "            print(calc.div(num1, num2))\n",
    "    elif choice==5:\n",
    "        break\n",
    "    else:\n",
    "        print(\"Not a valid choice\")"
   ]
  },
  {
   "cell_type": "code",
   "execution_count": null,
   "metadata": {},
   "outputs": [],
   "source": []
  },
  {
   "cell_type": "code",
   "execution_count": null,
   "metadata": {},
   "outputs": [],
   "source": []
  },
  {
   "cell_type": "markdown",
   "metadata": {},
   "source": [
    "## ATM machine "
   ]
  },
  {
   "cell_type": "code",
   "execution_count": 9,
   "metadata": {},
   "outputs": [],
   "source": [
    "class ATM():\n",
    "    def __init__(self):\n",
    "        self.balance=0\n",
    "        print(\"Hello! Welcome to the ATM machine.\")\n",
    "    \n",
    "    def deposit(self):\n",
    "        amount=float(input((\"Enter the amount to be deposited: \")))\n",
    "        self.balance+=amount\n",
    "        print(f\"You deposited: {amount}\")\n",
    "        \n",
    "    def withdraw(self):\n",
    "        amount1=float(input(\"Enter the amount to be withdrawn: \"))\n",
    "        if self.balance>=amount1:\n",
    "            self.balance-=amount1\n",
    "            print(f\"You withdrew: {amount1}\")\n",
    "        else:\n",
    "            print(\"You do not have sufficient funds to withdraw this amount\")\n",
    "    \n",
    "    def display(self):\n",
    "        print(f\"The avalaible balance is {self.balance}\")\n",
    "          "
   ]
  },
  {
   "cell_type": "code",
   "execution_count": 10,
   "metadata": {},
   "outputs": [
    {
     "name": "stdout",
     "output_type": "stream",
     "text": [
      "Hello! Welcome to the ATM machine.\n",
      "Enter the amount to be deposited: 500\n",
      "You deposited: 500.0\n"
     ]
    }
   ],
   "source": [
    "my_account= ATM()\n",
    "my_account.deposit()"
   ]
  },
  {
   "cell_type": "code",
   "execution_count": 11,
   "metadata": {},
   "outputs": [
    {
     "name": "stdout",
     "output_type": "stream",
     "text": [
      "Enter the amount to be deposited: 1000\n",
      "You deposited: 1000.0\n"
     ]
    }
   ],
   "source": [
    "my_account.deposit()"
   ]
  },
  {
   "cell_type": "code",
   "execution_count": 12,
   "metadata": {},
   "outputs": [
    {
     "name": "stdout",
     "output_type": "stream",
     "text": [
      "The avalaible balance is 1500.0\n"
     ]
    }
   ],
   "source": [
    "my_account.display()"
   ]
  },
  {
   "cell_type": "code",
   "execution_count": 13,
   "metadata": {},
   "outputs": [
    {
     "name": "stdout",
     "output_type": "stream",
     "text": [
      "Enter the amount to be withdrawn: 500\n",
      "You withdrew: 500.0\n"
     ]
    }
   ],
   "source": [
    "my_account.withdraw()"
   ]
  },
  {
   "cell_type": "code",
   "execution_count": 14,
   "metadata": {
    "scrolled": true
   },
   "outputs": [
    {
     "name": "stdout",
     "output_type": "stream",
     "text": [
      "The avalaible balance is 1000.0\n"
     ]
    }
   ],
   "source": [
    "my_account.display()"
   ]
  },
  {
   "cell_type": "code",
   "execution_count": 15,
   "metadata": {},
   "outputs": [
    {
     "name": "stdout",
     "output_type": "stream",
     "text": [
      "Enter the amount to be withdrawn: 1200\n",
      "You do not have sufficient funds to withdraw this amount\n"
     ]
    }
   ],
   "source": [
    "my_account.withdraw()"
   ]
  },
  {
   "cell_type": "code",
   "execution_count": null,
   "metadata": {},
   "outputs": [
    {
     "name": "stdout",
     "output_type": "stream",
     "text": [
      "\n",
      "Hello! Welcome to the ATM machine.\n",
      "Choose from the following menu:\n",
      "1. Deposit\n",
      "2. Withdraw\n",
      "3. Display Balance\n",
      "4. Exit\n",
      "Enter your choice (1-4): 1\n",
      "Enter the amount to be deposited: 500\n",
      "You deposited: 500.0\n",
      "\n",
      "Hello! Welcome to the ATM machine.\n",
      "Choose from the following menu:\n",
      "1. Deposit\n",
      "2. Withdraw\n",
      "3. Display Balance\n",
      "4. Exit\n",
      "Enter your choice (1-4): 1\n",
      "Enter the amount to be deposited: 100\n",
      "You deposited: 100.0\n",
      "\n",
      "Hello! Welcome to the ATM machine.\n",
      "Choose from the following menu:\n",
      "1. Deposit\n",
      "2. Withdraw\n",
      "3. Display Balance\n",
      "4. Exit\n",
      "Enter your choice (1-4): 3\n",
      "The avalaible balance is 0\n",
      "\n",
      "Hello! Welcome to the ATM machine.\n",
      "Choose from the following menu:\n",
      "1. Deposit\n",
      "2. Withdraw\n",
      "3. Display Balance\n",
      "4. Exit\n",
      "Enter your choice (1-4): 2\n",
      "Enter the amount to be withdrawn: 600\n",
      "You do not have sufficient funds to withdraw this amount\n",
      "\n",
      "Hello! Welcome to the ATM machine.\n",
      "Choose from the following menu:\n",
      "1. Deposit\n",
      "2. Withdraw\n",
      "3. Display Balance\n",
      "4. Exit\n"
     ]
    }
   ],
   "source": [
    "class ATM():\n",
    "    def __init__(self):\n",
    "        self.balance=0\n",
    "    \n",
    "    def deposit(self):\n",
    "        amount=float(input((\"Enter the amount to be deposited: \")))\n",
    "        self.balance+=amount\n",
    "        print(f\"You deposited: {amount}\")\n",
    "        \n",
    "    def withdraw(self):\n",
    "        amount1=float(input(\"Enter the amount to be withdrawn: \"))\n",
    "        if self.balance>=amount1:\n",
    "            self.balance-=amount1\n",
    "            print(f\"You withdrew: {amount1}\")\n",
    "        else:\n",
    "            print(\"You do not have sufficient funds to withdraw this amount\")\n",
    "    \n",
    "    def display(self):\n",
    "        print(f\"The avalaible balance is {self.balance}\")\n",
    "          \n",
    "\n",
    "\n",
    "while True:\n",
    "\n",
    "    my_account=ATM()\n",
    "    print(\"\\nHello! Welcome to the ATM machine.\")\n",
    "    print(\"Choose from the following menu:\")\n",
    "    print(\"1. Deposit\")\n",
    "    print(\"2. Withdraw\")\n",
    "    print(\"3. Display Balance\")\n",
    "    print(\"4. Exit\")\n",
    "\n",
    "    choice = int(input(\"Enter your choice (1-4): \"))\n",
    "    \n",
    "    if choice==1:\n",
    "        my_account.deposit()\n",
    "    elif choice==2:\n",
    "        my_account.withdraw()\n",
    "    elif choice==3:\n",
    "        my_account.display()\n",
    "    elif choice==4:\n",
    "        break\n",
    "    else:\n",
    "        print(\"Not a valid choice\")"
   ]
  },
  {
   "cell_type": "code",
   "execution_count": null,
   "metadata": {},
   "outputs": [],
   "source": []
  }
 ],
 "metadata": {
  "kernelspec": {
   "display_name": "Python 3",
   "language": "python",
   "name": "python3"
  },
  "language_info": {
   "codemirror_mode": {
    "name": "ipython",
    "version": 3
   },
   "file_extension": ".py",
   "mimetype": "text/x-python",
   "name": "python",
   "nbconvert_exporter": "python",
   "pygments_lexer": "ipython3",
   "version": "3.8.3"
  }
 },
 "nbformat": 4,
 "nbformat_minor": 5
}
