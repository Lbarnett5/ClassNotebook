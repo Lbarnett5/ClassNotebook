{
 "cells": [
  {
   "cell_type": "markdown",
   "id": "f2db4e89",
   "metadata": {},
   "source": [
    "# Pygame\n",
    "Pygame is a cross-platform set of Python modules designed for writing video games. It includes computer graphics and sound libraries designed to be used with the Python programming language."
   ]
  },
  {
   "cell_type": "markdown",
   "id": "07b10317",
   "metadata": {},
   "source": [
    "### Empty Pygame"
   ]
  },
  {
   "cell_type": "code",
   "execution_count": 1,
   "id": "b970266b",
   "metadata": {},
   "outputs": [
    {
     "name": "stdout",
     "output_type": "stream",
     "text": [
      "Requirement already satisfied: pygame in c:\\users\\afdet\\anaconda3\\lib\\site-packages (2.1.2)\n"
     ]
    }
   ],
   "source": [
    "!pip install pygame "
   ]
  },
  {
   "cell_type": "markdown",
   "id": "f590661d",
   "metadata": {},
   "source": [
    "#### 1.  import pygame to import all modules and .init() function to initialize those modules"
   ]
  },
  {
   "cell_type": "markdown",
   "id": "ed484e6d",
   "metadata": {},
   "source": [
    "#### 2. Initialize a window to display. We use .set_mode() function to create a window. "
   ]
  },
  {
   "cell_type": "markdown",
   "id": "0b3bfdfc",
   "metadata": {},
   "source": [
    "#### 3. Keep that window running until the user presses the exit button."
   ]
  },
  {
   "cell_type": "code",
   "execution_count": 2,
   "id": "e9647463",
   "metadata": {},
   "outputs": [
    {
     "name": "stdout",
     "output_type": "stream",
     "text": [
      "pygame 2.1.2 (SDL 2.0.18, Python 3.9.12)\n",
      "Hello from the pygame community. https://www.pygame.org/contribute.html\n"
     ]
    }
   ],
   "source": [
    "import pygame\n",
    "pygame.init()\n",
    "\n",
    "#Create the game window\n",
    "WIDTH=500\n",
    "HEIGHT=400\n",
    "\n",
    "surface=pygame.display.set_mode((WIDTH,HEIGHT))\n",
    "\n",
    "active=True\n",
    "while active:\n",
    "    for event in pygame.event.get():\n",
    "        if event.type==pygame.QUIT:\n",
    "            active=False\n",
    "pygame.quit()"
   ]
  },
  {
   "cell_type": "code",
   "execution_count": null,
   "id": "48d2e6e3",
   "metadata": {},
   "outputs": [],
   "source": []
  },
  {
   "cell_type": "markdown",
   "id": "08041009",
   "metadata": {},
   "source": [
    "#### fill(): This method is used to fill the display with the color specified."
   ]
  },
  {
   "cell_type": "code",
   "execution_count": 3,
   "id": "988e20f5",
   "metadata": {},
   "outputs": [],
   "source": [
    "import pygame\n",
    "pygame.init()\n",
    "\n",
    "surface=pygame.display.set_mode((500,400))\n",
    "\n",
    "pygame.display.set_caption(\"Coloured Window\")\n",
    "\n",
    "#RGB Colours\n",
    "WHITE=(255,255,255)\n",
    "BLACK=(0,0,0)\n",
    "RED=(255,0,0)\n",
    "GREEN=(0,255,0)\n",
    "BLUE=(0,0,255)\n",
    "\n",
    "surface.fill(GREEN)\n",
    "\n",
    "pygame.display.flip() #Without this line the user will not see anything.\n",
    "\n",
    "active=True\n",
    "while active:\n",
    "    for event in pygame.event.get():\n",
    "        if event.type==pygame.QUIT:\n",
    "            active=False\n",
    "pygame.quit()"
   ]
  },
  {
   "cell_type": "code",
   "execution_count": null,
   "id": "facc4551",
   "metadata": {},
   "outputs": [],
   "source": []
  },
  {
   "cell_type": "code",
   "execution_count": null,
   "id": "84213ca6",
   "metadata": {},
   "outputs": [],
   "source": []
  },
  {
   "cell_type": "markdown",
   "id": "79d175f4",
   "metadata": {},
   "source": [
    "## Adding Text in Pygame\n",
    "https://www.pygame.org/docs/ref/font.html/"
   ]
  },
  {
   "cell_type": "code",
   "execution_count": 4,
   "id": "30ce1b7d",
   "metadata": {},
   "outputs": [],
   "source": [
    "import pygame\n",
    "pygame.init()\n",
    "\n",
    "surface=pygame.display.set_mode((500,400))\n",
    "\n",
    "pygame.display.set_caption(\"Coloured Window\")\n",
    "\n",
    "#RGB Colours\n",
    "WHITE=(255,255,255)\n",
    "BLACK=(0,0,0)\n",
    "RED=(255,0,0)\n",
    "GREEN=(0,255,0)\n",
    "BLUE=(0,0,255)\n",
    "\n",
    "surface.fill(BLACK)\n",
    "\n",
    "pygame.display.flip() #Without this line the user will not see anything.\n",
    "\n",
    "font=pygame.font.Font('freesansbold.ttf',48)\n",
    "\n",
    "text=font.render(\"Lyn Detwiler\", True, BLACK, WHITE)\n",
    "\n",
    "textRect=text.get_rect()\n",
    "X=500\n",
    "Y=400\n",
    "textRect.center=(X//2,Y//2)\n",
    "\n",
    "active=True\n",
    "while active:\n",
    "    surface.blit(text,textRect)\n",
    "    for event in pygame.event.get():\n",
    "        if event.type==pygame.QUIT:\n",
    "            active=False\n",
    "        pygame.display.update()\n",
    "pygame.quit()"
   ]
  },
  {
   "cell_type": "code",
   "execution_count": null,
   "id": "d9a5702f",
   "metadata": {},
   "outputs": [],
   "source": []
  },
  {
   "cell_type": "markdown",
   "id": "8a176130",
   "metadata": {},
   "source": [
    "## Adding Images "
   ]
  },
  {
   "cell_type": "code",
   "execution_count": 5,
   "id": "da0ec1cc",
   "metadata": {},
   "outputs": [
    {
     "ename": "FileNotFoundError",
     "evalue": "No file '98c.jpg' found in working directory 'C:\\Users\\afdet\\OneDrive\\Desktop'.",
     "output_type": "error",
     "traceback": [
      "\u001b[1;31m---------------------------------------------------------------------------\u001b[0m",
      "\u001b[1;31mFileNotFoundError\u001b[0m                         Traceback (most recent call last)",
      "Input \u001b[1;32mIn [5]\u001b[0m, in \u001b[0;36m<cell line: 11>\u001b[1;34m()\u001b[0m\n\u001b[0;32m      8\u001b[0m surface\u001b[38;5;241m=\u001b[39mpygame\u001b[38;5;241m.\u001b[39mdisplay\u001b[38;5;241m.\u001b[39mset_mode((WIDTH,HEIGHT))\n\u001b[0;32m     10\u001b[0m pygame\u001b[38;5;241m.\u001b[39mdisplay\u001b[38;5;241m.\u001b[39mset_caption(\u001b[38;5;124m\"\u001b[39m\u001b[38;5;124mAdding images to Pygame Window\u001b[39m\u001b[38;5;124m\"\u001b[39m)\n\u001b[1;32m---> 11\u001b[0m img\u001b[38;5;241m=\u001b[39m\u001b[43mpygame\u001b[49m\u001b[38;5;241;43m.\u001b[39;49m\u001b[43mimage\u001b[49m\u001b[38;5;241;43m.\u001b[39;49m\u001b[43mload\u001b[49m\u001b[43m(\u001b[49m\u001b[38;5;124;43m\"\u001b[39;49m\u001b[38;5;124;43m98c.jpg\u001b[39;49m\u001b[38;5;124;43m\"\u001b[39;49m\u001b[43m)\u001b[49m\u001b[38;5;241m.\u001b[39mconvert()\n\u001b[0;32m     12\u001b[0m resized_img\u001b[38;5;241m=\u001b[39mpygame\u001b[38;5;241m.\u001b[39mtransform\u001b[38;5;241m.\u001b[39mscale(img,(\u001b[38;5;241m300\u001b[39m,\u001b[38;5;241m200\u001b[39m))\n\u001b[0;32m     13\u001b[0m x\u001b[38;5;241m=\u001b[39m\u001b[38;5;241m100\u001b[39m\n",
      "\u001b[1;31mFileNotFoundError\u001b[0m: No file '98c.jpg' found in working directory 'C:\\Users\\afdet\\OneDrive\\Desktop'."
     ]
    }
   ],
   "source": [
    "import pygame\n",
    "pygame.init()\n",
    "\n",
    "#Create the game window\n",
    "WIDTH=500\n",
    "HEIGHT=400\n",
    "\n",
    "surface=pygame.display.set_mode((WIDTH,HEIGHT))\n",
    "\n",
    "pygame.display.set_caption(\"Adding images to Pygame Window\")\n",
    "img=pygame.image.load(\"98c.jpg\").convert()\n",
    "resized_img=pygame.transform.scale(img,(300,200))\n",
    "x=100\n",
    "y=100\n",
    "\n",
    "surface.blit(resized_img,(x,y))\n",
    "\n",
    "pygame.display.flip()\n",
    "\n",
    "active=True\n",
    "while active:\n",
    "    for event in pygame.event.get():\n",
    "        if event.type==pygame.QUIT:\n",
    "            active=False\n",
    "pygame.quit()"
   ]
  },
  {
   "cell_type": "code",
   "execution_count": null,
   "id": "c324ddcb",
   "metadata": {},
   "outputs": [],
   "source": []
  },
  {
   "cell_type": "code",
   "execution_count": null,
   "id": "715eb79d",
   "metadata": {},
   "outputs": [],
   "source": []
  },
  {
   "cell_type": "markdown",
   "id": "41ef5af7",
   "metadata": {},
   "source": [
    "## Adding music to the Pygame"
   ]
  },
  {
   "cell_type": "code",
   "execution_count": null,
   "id": "b583abaa",
   "metadata": {},
   "outputs": [],
   "source": [
    "import pygame\n",
    "from pygame import mixer\n",
    "\n",
    "mixer.init()\n",
    "mixer.music.load(\"music1.mp3\")\n",
    "mixer.music.set_volume(0.7)\n",
    "\n",
    "#start playing the song\n",
    "mixer.music.play()\n",
    "\n",
    "while True:\n",
    "    print(\"Pres p to pause, r to resume, e for exit.\")\n",
    "    query=input(\" \")\n",
    "    \n",
    "    if query.lower=='p':\n",
    "        mixer.music.pause()\n",
    "    elif query.lower=='r':\n",
    "        mixer.music.unpause()\n",
    "    elif query.lower=='e':\n",
    "        mixer.music.stop()\n",
    "        break"
   ]
  },
  {
   "cell_type": "code",
   "execution_count": null,
   "id": "db47792b",
   "metadata": {},
   "outputs": [],
   "source": []
  },
  {
   "cell_type": "code",
   "execution_count": null,
   "id": "62f05dd1",
   "metadata": {},
   "outputs": [],
   "source": []
  },
  {
   "cell_type": "markdown",
   "id": "1f986e7f",
   "metadata": {},
   "source": [
    "## Drawing on the screen\n",
    "- pygame.draw.rect(Surface, color, Rect, width=0)\n",
    "- pygame.draw.polygon(Surface, color, pointlist, width=0)\n",
    "- pygame.draw.circle(Surface, color, pos, radius, width=0)\n",
    "- pygame.draw.ellipse(Surface, color, Rect, width=0)\n",
    "- pygame.draw.arc(Surface, color, Rect, start_angle, stop_angle, width=1)\n",
    "- pygame.draw.line(Surface, color, start_pos, end_pos, width=1)"
   ]
  },
  {
   "cell_type": "code",
   "execution_count": 1,
   "id": "e9881d22",
   "metadata": {},
   "outputs": [
    {
     "name": "stdout",
     "output_type": "stream",
     "text": [
      "pygame 2.1.2 (SDL 2.0.18, Python 3.9.12)\n",
      "Hello from the pygame community. https://www.pygame.org/contribute.html\n"
     ]
    }
   ],
   "source": [
    "import pygame\n",
    "pygame.init()\n",
    "from math import pi\n",
    "\n",
    "\n",
    "\n",
    "WHITE=(255,255,255)\n",
    "BLACK=(0,0,0)\n",
    "RED=(255,0,0)\n",
    "GREEN=(0,255,0)\n",
    "BLUE=(0,0,255)\n",
    "\n",
    "surface=pygame.display.set_mode((500,400))\n",
    "# Draw rectangle\n",
    "#left, top, width, height\n",
    "pygame.draw.rect(surface, RED, pygame.Rect(120,120,60,60))\n",
    "pygame.display.flip()\n",
    "\n",
    "active=True\n",
    "while active:\n",
    "    for event in pygame.event.get():\n",
    "        if event.type==pygame.QUIT:\n",
    "            active=False\n",
    "pygame.quit()"
   ]
  },
  {
   "cell_type": "code",
   "execution_count": 2,
   "id": "747b667b",
   "metadata": {},
   "outputs": [],
   "source": []
  },
  {
   "cell_type": "code",
   "execution_count": null,
   "id": "2d8fddab",
   "metadata": {},
   "outputs": [],
   "source": []
  },
  {
   "cell_type": "markdown",
   "id": "5ec31924",
   "metadata": {},
   "source": [
    "#### Rectangle with no color filled inside"
   ]
  },
  {
   "cell_type": "code",
   "execution_count": null,
   "id": "cb448cc3",
   "metadata": {},
   "outputs": [],
   "source": [
    "import pygame\n",
    "pygame.init()\n",
    "from math import pi\n",
    "\n",
    "\n",
    "\n",
    "WHITE=(255,255,255)\n",
    "BLACK=(0,0,0)\n",
    "RED=(255,0,0)\n",
    "GREEN=(0,255,0)\n",
    "BLUE=(0,0,255)\n",
    "\n",
    "surface=pygame.display.set_mode((500,400))\n",
    "# Draw rectangle\n",
    "#left, top, width, height\n",
    "pygame.draw.rect(surface, RED, pygame.Rect(120,120,60,60),5)\n",
    "pygame.display.flip()\n",
    "\n",
    "active=True\n",
    "while active:\n",
    "    for event in pygame.event.get():\n",
    "        if event.type==pygame.QUIT:\n",
    "            active=False\n",
    "pygame.quit()"
   ]
  },
  {
   "cell_type": "code",
   "execution_count": null,
   "id": "e3f7e044",
   "metadata": {},
   "outputs": [],
   "source": []
  },
  {
   "cell_type": "code",
   "execution_count": null,
   "id": "880ad1ac",
   "metadata": {},
   "outputs": [],
   "source": []
  },
  {
   "cell_type": "markdown",
   "id": "74f8e70a",
   "metadata": {},
   "source": [
    "#### Polygon()\n",
    "pygame.draw.polygon(Surface, color, pointlist, width=0)\n",
    "#### Circle\n",
    "pygame.draw.circle(Surface, color, pos, radius, width=0)\n",
    "\n",
    "#### Line\n",
    "pygame.draw.line(Surface, color, start_pos, end_pos, width=1)"
   ]
  },
  {
   "cell_type": "code",
   "execution_count": 4,
   "id": "53d63d1d",
   "metadata": {},
   "outputs": [],
   "source": [
    "import pygame\n",
    "pygame.init()\n",
    "from math import pi\n",
    "\n",
    "\n",
    "\n",
    "WHITE=(255,255,255)\n",
    "BLACK=(0,0,0)\n",
    "RED=(255,0,0)\n",
    "GREEN=(0,255,0)\n",
    "BLUE=(0,0,255)\n",
    "\n",
    "surface=pygame.display.set_mode((500,400))\n",
    "#Draw polygon\n",
    "points=[(225,0),(250,0),(255,300),(230,100)]\n",
    "pygame.draw.polygon(surface,WHITE,points,5)\n",
    "\n",
    "#Circle\n",
    "pygame.draw.circle(surface,RED,(350,350),50,2)\n",
    "\n",
    "#Line\n",
    "pygame.draw.line(surface,GREEN,(100,100),(400,400),width=5)\n",
    "\n",
    "pygame.display.flip()\n",
    "\n",
    "active=True\n",
    "while active:\n",
    "    for event in pygame.event.get():\n",
    "        if event.type==pygame.QUIT:\n",
    "            active=False\n",
    "pygame.quit()"
   ]
  },
  {
   "cell_type": "code",
   "execution_count": null,
   "id": "faa02f79",
   "metadata": {},
   "outputs": [],
   "source": []
  },
  {
   "cell_type": "code",
   "execution_count": null,
   "id": "2cd4993e",
   "metadata": {},
   "outputs": [],
   "source": []
  },
  {
   "cell_type": "markdown",
   "id": "34e68d8f",
   "metadata": {},
   "source": [
    "### keyboard input\n",
    "1. Detecting which key was pressed\n",
    "https://www.pygame.org/docs/ref/key.html\n"
   ]
  },
  {
   "cell_type": "code",
   "execution_count": 6,
   "id": "30e4c183",
   "metadata": {},
   "outputs": [
    {
     "name": "stdout",
     "output_type": "stream",
     "text": [
      "Key V has been pressed.\n",
      "Key J has been pressed.\n",
      "Key A has been pressed.\n"
     ]
    }
   ],
   "source": [
    "import pygame\n",
    "pygame.init()\n",
    "surface=pygame.display.set_mode((500,400))\n",
    "pygame.display.flip()\n",
    "\n",
    "active=True\n",
    "while active:\n",
    "    for event in pygame.event.get():\n",
    "        if event.type==pygame.QUIT:\n",
    "            active=False\n",
    "        \n",
    "        if event.type==pygame.KEYDOWN:\n",
    "            #a keyboard key is pressed\n",
    "            \n",
    "            if event.key==pygame.K_a:\n",
    "                print(\"Key A has been pressed.\")\n",
    "            \n",
    "            if event.key==pygame.K_j:\n",
    "                print(\"Key J has been pressed.\")\n",
    "                \n",
    "            if event.key==pygame.K_v:\n",
    "                print(\"Key V has been pressed.\")\n",
    "            \n",
    "            if event.key==pygame.K_p:\n",
    "                print(\"Key V has been pressed.\")\n",
    "            \n",
    "            if event.key==pygame.K_m:\n",
    "                print(\"Key M has been pressed.\")\n",
    "                \n",
    "            if event.key==pygame.K_BACKSPACE:\n",
    "                print(\"Backspace has been pressed.\")\n",
    "                \n",
    "            if event.key==pygame.K_ESCAPE:\n",
    "                print(\"Escape has been pressed\")\n",
    "            \n",
    "            if event.key==pygame.K_SPACE:\n",
    "                print(\"Space bar has been pressed\")\n",
    "            \n",
    "            if event.key==pygame.K_SEMICOLON:\n",
    "                print(\"Semicolon has been pressed\")\n",
    "                \n",
    "            if event.key==pygame.K_5:\n",
    "                print(\"5 has been pressed\")\n",
    "            \n",
    "            if event.key==pygame.K_SLASH:\n",
    "                print(\"Slash has been pressed\")\n",
    "pygame.quit()"
   ]
  },
  {
   "cell_type": "code",
   "execution_count": null,
   "id": "e72fb226",
   "metadata": {},
   "outputs": [],
   "source": []
  },
  {
   "cell_type": "code",
   "execution_count": null,
   "id": "1099ec65",
   "metadata": {},
   "outputs": [],
   "source": []
  },
  {
   "cell_type": "markdown",
   "id": "03404963",
   "metadata": {},
   "source": [
    "### Practice: Create key pressed for\n",
    "- escape\n",
    "- space\n",
    "- forward slash\n",
    "- 5\n",
    "- semicolon"
   ]
  },
  {
   "cell_type": "markdown",
   "id": "230c9224",
   "metadata": {},
   "source": [
    "## Your First game: Moving Rectangle\n",
    "- Left arrow key: Decrement in x co-ordinate\n",
    "- Right arrow key: Increment in x co-ordinate\n",
    "- Up arrow key: Decrement in y co-ordinate\n",
    "- Down arrow key: Increment in y co-ordinate"
   ]
  },
  {
   "cell_type": "code",
   "execution_count": 3,
   "id": "fbf8ee6f",
   "metadata": {},
   "outputs": [],
   "source": [
    "import pygame\n",
    "pygame.init()\n",
    "\n",
    "surface=pygame.display.set_mode((500,400))\n",
    "pygame.display.set_caption(\"Moving Rectangle\")\n",
    "\n",
    "#Rectangle object\n",
    "X=200\n",
    "Y=200\n",
    "width=20\n",
    "height=20\n",
    "\n",
    "vel=10\n",
    "\n",
    "active=True\n",
    "while active:\n",
    "    pygame.time.delay(10)\n",
    "    \n",
    "    for event in pygame.event.get():\n",
    "        if event.type==pygame.QUIT:\n",
    "            active=False\n",
    "        \n",
    "        #Store the key pressed\n",
    "        keys=pygame.key.get_pressed()\n",
    "        \n",
    "        #left key\n",
    "        if keys[pygame.K_LEFT] and X>0:\n",
    "            #decrement in x coordinate\n",
    "            X-=vel\n",
    "            \n",
    "        #right key\n",
    "        if keys[pygame.K_RIGHT] and X<500-width:\n",
    "            X+=vel\n",
    "        \n",
    "        #up key\n",
    "        if keys[pygame.K_UP] and Y>0:\n",
    "            Y-=vel\n",
    "            \n",
    "        if keys[pygame.K_DOWN] and Y<400-height:\n",
    "            Y+=vel\n",
    "        \n",
    "        surface.fill((0,0,0))\n",
    "        \n",
    "        pygame.draw.rect(surface,(255,0,0),(X,Y,width,height))\n",
    "        \n",
    "        pygame.display.update()\n",
    "\n",
    "pygame.quit()"
   ]
  },
  {
   "cell_type": "code",
   "execution_count": null,
   "id": "5edbf6b0",
   "metadata": {},
   "outputs": [],
   "source": []
  },
  {
   "cell_type": "code",
   "execution_count": null,
   "id": "72642dc4",
   "metadata": {},
   "outputs": [],
   "source": []
  }
 ],
 "metadata": {
  "kernelspec": {
   "display_name": "Python 3 (ipykernel)",
   "language": "python",
   "name": "python3"
  },
  "language_info": {
   "codemirror_mode": {
    "name": "ipython",
    "version": 3
   },
   "file_extension": ".py",
   "mimetype": "text/x-python",
   "name": "python",
   "nbconvert_exporter": "python",
   "pygments_lexer": "ipython3",
   "version": "3.9.12"
  }
 },
 "nbformat": 4,
 "nbformat_minor": 5
}
