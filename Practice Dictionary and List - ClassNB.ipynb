{
 "cells": [
  {
   "cell_type": "markdown",
   "metadata": {},
   "source": [
    "## Practice Questions Dictionary and List"
   ]
  },
  {
   "cell_type": "markdown",
   "metadata": {},
   "source": [
    "### List reverse"
   ]
  },
  {
   "cell_type": "code",
   "execution_count": 1,
   "metadata": {},
   "outputs": [
    {
     "data": {
      "text/plain": [
       "[43, 12, 23, 45, 67, 34]"
      ]
     },
     "execution_count": 1,
     "metadata": {},
     "output_type": "execute_result"
    }
   ],
   "source": [
    "Lista=[34,67,45,23,12,43]\n",
    "\n",
    "Lista[::-1]"
   ]
  },
  {
   "cell_type": "markdown",
   "metadata": {},
   "source": [
    "### Convert the lists to dictionary\n",
    "* keys = ['Ten', 'Twenty', 'Thirty']\n",
    "* values = [10, 20, 30]"
   ]
  },
  {
   "cell_type": "code",
   "execution_count": 3,
   "metadata": {},
   "outputs": [
    {
     "data": {
      "text/plain": [
       "[('Ten', 10), ('Twenty', 20), ('Thirty', 30)]"
      ]
     },
     "execution_count": 3,
     "metadata": {},
     "output_type": "execute_result"
    }
   ],
   "source": [
    "keys = ['Ten', 'Twenty', 'Thirty']\n",
    "values = [10, 20, 30]\n",
    "list(zip(keys,values))"
   ]
  },
  {
   "cell_type": "code",
   "execution_count": 4,
   "metadata": {},
   "outputs": [
    {
     "data": {
      "text/plain": [
       "{'Ten': 10, 'Twenty': 20, 'Thirty': 30}"
      ]
     },
     "execution_count": 4,
     "metadata": {},
     "output_type": "execute_result"
    }
   ],
   "source": [
    "dict(zip(keys,values))"
   ]
  },
  {
   "cell_type": "markdown",
   "metadata": {},
   "source": [
    "### Marge the following two dictionaries and keep the original dictionaries as it is\n",
    "* dict0 = {'Ten': 10, 'Twenty': 20, 'Thirty': 30}\n",
    "* dict1 = {'Thirty': 30, 'Fourty': 40, 'Fifty': 50}"
   ]
  },
  {
   "cell_type": "code",
   "execution_count": 5,
   "metadata": {},
   "outputs": [],
   "source": [
    "dict0 = {'Ten': 10, 'Twenty': 20, 'Thirty': 30}\n",
    "dict1 = {'Thirty': 30, 'Fourty': 40, 'Fifty': 50}"
   ]
  },
  {
   "cell_type": "code",
   "execution_count": 6,
   "metadata": {},
   "outputs": [],
   "source": [
    "dict2=dict0.copy()"
   ]
  },
  {
   "cell_type": "code",
   "execution_count": 7,
   "metadata": {},
   "outputs": [],
   "source": [
    "dict2.update(dict1)"
   ]
  },
  {
   "cell_type": "code",
   "execution_count": 8,
   "metadata": {},
   "outputs": [
    {
     "data": {
      "text/plain": [
       "{'Ten': 10, 'Twenty': 20, 'Thirty': 30, 'Fourty': 40, 'Fifty': 50}"
      ]
     },
     "execution_count": 8,
     "metadata": {},
     "output_type": "execute_result"
    }
   ],
   "source": [
    "dict2"
   ]
  },
  {
   "cell_type": "code",
   "execution_count": 9,
   "metadata": {},
   "outputs": [
    {
     "data": {
      "text/plain": [
       "('Ten', 'Twenty', 'Thirty', 'Fourty', 'Fifty')"
      ]
     },
     "execution_count": 9,
     "metadata": {},
     "output_type": "execute_result"
    }
   ],
   "source": [
    "tuple(dict2)"
   ]
  },
  {
   "cell_type": "markdown",
   "metadata": {},
   "source": [
    "### Access 70 from dictionary\n",
    " * Dict3 = { \"class\":{ \"student\":{ \"subject\":{ \"physics\":70,\"history\":80}}}}"
   ]
  },
  {
   "cell_type": "code",
   "execution_count": 11,
   "metadata": {},
   "outputs": [
    {
     "data": {
      "text/plain": [
       "70"
      ]
     },
     "execution_count": 11,
     "metadata": {},
     "output_type": "execute_result"
    }
   ],
   "source": [
    "Dict3 = { \"class\":{ \"student\":{ \"subject\":{ \"physics\":70,\"history\":80}}}}\n",
    "Dict3['class'][\"student\"][\"subject\"][\"physics\"]"
   ]
  },
  {
   "cell_type": "code",
   "execution_count": null,
   "metadata": {},
   "outputs": [],
   "source": []
  },
  {
   "cell_type": "markdown",
   "metadata": {},
   "source": [
    " Dict4 = {\n",
    "  \"name\": \"Mark\",\n",
    "  \"age\":21,\n",
    "  \"College\": \"Junior\",\n",
    "  \"city\": \"Atlanta\"}\n",
    " * Extract keys = [\"name\", \"city\"]\n",
    " * Expecte output: {'name': 'Mark', 'city': 'Atlanta'}\n",
    " "
   ]
  },
  {
   "cell_type": "code",
   "execution_count": 12,
   "metadata": {},
   "outputs": [
    {
     "name": "stdout",
     "output_type": "stream",
     "text": [
      "{'name': 'Mark'}\n",
      "{'city': 'Atlanta'}\n"
     ]
    }
   ],
   "source": [
    "Dict4 = { \"name\": \"Mark\", \"age\":21, \"College\": \"Junior\", \"city\": \"Atlanta\"}\n",
    "keys = ['name','city']\n",
    "for K in keys:\n",
    "    print({K:Dict4[K]})"
   ]
  },
  {
   "cell_type": "code",
   "execution_count": null,
   "metadata": {},
   "outputs": [],
   "source": []
  },
  {
   "cell_type": "markdown",
   "metadata": {},
   "source": [
    "### Dict7 = {'a': 100, 'b': 200, 'c': 300}\n",
    " * Check if value 200 is present or not "
   ]
  },
  {
   "cell_type": "code",
   "execution_count": 14,
   "metadata": {},
   "outputs": [
    {
     "name": "stdout",
     "output_type": "stream",
     "text": [
      "True\n"
     ]
    }
   ],
   "source": [
    "Dict7 = {'a': 100, 'b': 200, 'c': 300}\n",
    "print(200 in Dict7.values())"
   ]
  },
  {
   "cell_type": "code",
   "execution_count": null,
   "metadata": {},
   "outputs": [],
   "source": []
  },
  {
   "cell_type": "markdown",
   "metadata": {},
   "source": [
    "### check the key 'c' is present in the dict or not"
   ]
  },
  {
   "cell_type": "code",
   "execution_count": 15,
   "metadata": {},
   "outputs": [
    {
     "name": "stdout",
     "output_type": "stream",
     "text": [
      "True\n"
     ]
    }
   ],
   "source": [
    "Dict7 = {'a': 100, 'b': 200, 'c': 300}\n",
    "print(\"c\" in Dict7.keys())"
   ]
  },
  {
   "cell_type": "code",
   "execution_count": null,
   "metadata": {},
   "outputs": [],
   "source": []
  },
  {
   "cell_type": "markdown",
   "metadata": {},
   "source": [
    "###  Update Brad’s salary to 7500 \n",
    "* sampleDict = {\n",
    "     'emp1': {'name': 'Jhon', 'salary': 5500},\n",
    "     'emp2': {'name': 'Emma', 'salary': 7000},\n",
    "     'emp3': {'name': 'Brad', 'salary': 6500}\n",
    "}"
   ]
  },
  {
   "cell_type": "code",
   "execution_count": 20,
   "metadata": {},
   "outputs": [],
   "source": [
    "sampleDict = { 'emp1': {'name': 'Jhon', 'salary': 5500}, \n",
    "              'emp2': {'name': 'Emma', 'salary': 7000}, \n",
    "              'emp3': {'name': 'Brad', 'salary': 6500} }"
   ]
  },
  {
   "cell_type": "code",
   "execution_count": 21,
   "metadata": {},
   "outputs": [
    {
     "data": {
      "text/plain": [
       "{'emp1': {'name': 'Jhon', 'salary': 5500},\n",
       " 'emp2': {'name': 'Emma', 'salary': 7000},\n",
       " 'emp3': {'name': 'Brad', 'salary': 7500}}"
      ]
     },
     "execution_count": 21,
     "metadata": {},
     "output_type": "execute_result"
    }
   ],
   "source": [
    "sampleDict['emp3']['salary']=7500\n",
    "sampleDict"
   ]
  },
  {
   "cell_type": "markdown",
   "metadata": {},
   "source": [
    "### Find who is younger\n",
    "Dict9 = {\n",
    "  'Sam': 82,\n",
    "  'Harry': 65,\n",
    "  'Jack': 75\n",
    "}"
   ]
  },
  {
   "cell_type": "code",
   "execution_count": 23,
   "metadata": {},
   "outputs": [
    {
     "name": "stdout",
     "output_type": "stream",
     "text": [
      "65\n"
     ]
    }
   ],
   "source": [
    "Dict9 = { 'Sam': 82, 'Harry': 65, 'Jack': 75 }\n",
    "temp=min(Dict9.values())\n",
    "print(temp)"
   ]
  },
  {
   "cell_type": "code",
   "execution_count": 24,
   "metadata": {},
   "outputs": [
    {
     "name": "stdout",
     "output_type": "stream",
     "text": [
      "Harry\n"
     ]
    }
   ],
   "source": [
    "for key in Dict9.keys():\n",
    "    if Dict9[key]==temp:\n",
    "        print(key)"
   ]
  },
  {
   "cell_type": "markdown",
   "metadata": {},
   "source": [
    "### Find who is older"
   ]
  },
  {
   "cell_type": "code",
   "execution_count": 26,
   "metadata": {},
   "outputs": [
    {
     "name": "stdout",
     "output_type": "stream",
     "text": [
      "82\n",
      "Sam\n"
     ]
    }
   ],
   "source": [
    "temp2=max(Dict9.values())\n",
    "print(temp2)\n",
    "for key in Dict9.keys():\n",
    "    if Dict9[key]==temp2:\n",
    "        print(key)"
   ]
  },
  {
   "cell_type": "markdown",
   "metadata": {},
   "source": [
    "### Update **city to location**\n",
    " Dict10 = {\n",
    "  \"name\": \"Mark\",\n",
    "  \"age\":21,\n",
    "  \"College\": \"Junior\",\n",
    "  \"city\": \"Atlanta\"}\n"
   ]
  },
  {
   "cell_type": "code",
   "execution_count": 27,
   "metadata": {},
   "outputs": [
    {
     "data": {
      "text/plain": [
       "{'name': 'Mark', 'age': 21, 'College': 'Junior', 'location': 'Atlanta'}"
      ]
     },
     "execution_count": 27,
     "metadata": {},
     "output_type": "execute_result"
    }
   ],
   "source": [
    "Dict10 = { \"name\": \"Mark\", \"age\":21, \"College\": \"Junior\", \"city\": \"Atlanta\"}\n",
    "Dict10[\"location\"]=Dict10.pop(\"city\")\n",
    "Dict10"
   ]
  },
  {
   "cell_type": "code",
   "execution_count": null,
   "metadata": {},
   "outputs": [],
   "source": []
  }
 ],
 "metadata": {
  "kernelspec": {
   "display_name": "Python 3",
   "language": "python",
   "name": "python3"
  },
  "language_info": {
   "codemirror_mode": {
    "name": "ipython",
    "version": 3
   },
   "file_extension": ".py",
   "mimetype": "text/x-python",
   "name": "python",
   "nbconvert_exporter": "python",
   "pygments_lexer": "ipython3",
   "version": "3.8.3"
  }
 },
 "nbformat": 4,
 "nbformat_minor": 5
}
